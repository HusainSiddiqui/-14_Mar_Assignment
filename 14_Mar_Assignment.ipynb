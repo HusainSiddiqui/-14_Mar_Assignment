{
 "cells": [
  {
   "cell_type": "markdown",
   "metadata": {},
   "source": [
    "Q1. Write a Python function that takes in two arrays of data and calculates the F-value for a variance ratio\n",
    "test. The function should return the F-value and the corresponding p-value for the test."
   ]
  },
  {
   "cell_type": "code",
   "execution_count": 2,
   "metadata": {},
   "outputs": [
    {
     "name": "stdout",
     "output_type": "stream",
     "text": [
      "(1.2103268323730692, 0.4195938898447994)\n"
     ]
    }
   ],
   "source": [
    "import scipy.stats as stats\n",
    "\n",
    "def variance_ratio_test(data1, data2):\n",
    "    # Calculate the variances of the two samples\n",
    "    var1 = stats.variation(data1)\n",
    "    var2 = stats.variation(data2)\n",
    "    \n",
    "    # Calculate the F-value\n",
    "    F = var1 / var2\n",
    "    \n",
    "    # Calculate the degrees of freedom\n",
    "    df1 = len(data1) - 1\n",
    "    df2 = len(data2) - 1\n",
    "    \n",
    "    # Calculate the p-value\n",
    "    p_value = stats.f.sf(F, df1, df2)\n",
    "    \n",
    "    return F, p_value\n",
    "\n",
    "data1=[1,2,3,4,5,6]\n",
    "data2=[2,3,6,7,8,7]\n",
    "print(variance_ratio_test(data1,data2))"
   ]
  },
  {
   "cell_type": "markdown",
   "metadata": {},
   "source": [
    "Q2. Given a significance level of 0.05 and the degrees of freedom for the numerator and denominator of an\n",
    "F-distribution, write a Python function that returns the critical F-value for a two-tailed test."
   ]
  },
  {
   "cell_type": "code",
   "execution_count": 3,
   "metadata": {},
   "outputs": [],
   "source": [
    "from scipy.stats import f\n",
    "\n",
    "def crit_f_value(alpha, dfn, dfd):\n",
    "    return f.ppf(1 - alpha/2, dfn, dfd)\n"
   ]
  },
  {
   "cell_type": "markdown",
   "metadata": {},
   "source": [
    "Q3. Write a Python program that generates random samples from two normal distributions with known\n",
    "variances and uses an F-test to determine if the variances are equal. The program should output the F-\n",
    "value, degrees of freedom, and p-value for the test."
   ]
  },
  {
   "cell_type": "code",
   "execution_count": 11,
   "metadata": {},
   "outputs": [
    {
     "name": "stdout",
     "output_type": "stream",
     "text": [
      "F- value: 0.19894713785968965\n",
      "degrees of freedom: 49\n",
      "p-value: 0.9999999576288422\n"
     ]
    }
   ],
   "source": [
    "import numpy as np\n",
    "from scipy.stats import f\n",
    "data1=np.random.normal(scale=10,size=50)\n",
    "data2=np.random.normal(scale=10,size=50)\n",
    "\n",
    "var1 = stats.variation(data1)\n",
    "var2 = stats.variation(data2)\n",
    "\n",
    "# Calculate the F-value\n",
    "F = var1 / var2\n",
    "\n",
    "# Calculate the degrees of freedom\n",
    "df1 = len(data1) - 1\n",
    "df2 = len(data2) - 1\n",
    "\n",
    "# Calculate the p-value\n",
    "p_value = stats.f.sf(F, df1, df2)\n",
    "\n",
    "print('F- value:',F)\n",
    "print('degrees of freedom:',df1)\n",
    "print('p-value:',p_value)"
   ]
  },
  {
   "cell_type": "markdown",
   "metadata": {},
   "source": [
    "Q4.The variances of two populations are known to be 10 and 15. A sample of 12 observations is taken from\n",
    "each population. Conduct an F-test at the 5% significance level to determine if the variances are\n",
    "significantly different."
   ]
  },
  {
   "cell_type": "code",
   "execution_count": 13,
   "metadata": {},
   "outputs": [
    {
     "name": "stdout",
     "output_type": "stream",
     "text": [
      "reject H0\n"
     ]
    }
   ],
   "source": [
    "import numpy as np\n",
    "from scipy.stats import f\n",
    "#generate data variances 10 and 15 \n",
    "data1=np.random.normal(scale=np.sqrt(10),size=12)\n",
    "data2=np.random.normal(scale=np.sqrt(15),size=15)\n",
    "alpha=0.05\n",
    "\n",
    "# Calculate the degrees of freedom\n",
    "dfn=len(data1)-1\n",
    "dfd=len(data2)-1\n",
    "\n",
    "var1=stats.variation(data1)\n",
    "var2=stats.variation(data2)\n",
    "\n",
    "f_test=var1/var2\n",
    "\n",
    "critical_value=f.ppf(1 - alpha/2, dfn, dfd)\n",
    "\n",
    "\n",
    "\n",
    "if f_test<critical_value:\n",
    "    print('reject H0')\n",
    "else:\n",
    "    print('fail to reject H0')"
   ]
  },
  {
   "cell_type": "markdown",
   "metadata": {},
   "source": [
    "Q5. A manufacturer claims that the variance of the diameter of a certain product is 0.005. A sample of 25\n",
    "products is taken, and the sample variance is found to be 0.006. Conduct an F-test at the 1% significance\n",
    "level to determine if the claim is justified."
   ]
  },
  {
   "cell_type": "code",
   "execution_count": null,
   "metadata": {},
   "outputs": [],
   "source": [
    "import scipy.stats as stats\n",
    "\n",
    "# Define the null and alternative hypotheses\n",
    "# H0: The population variance is equal to 0.005\n",
    "# Ha: The population variance is not equal to 0.005\n",
    "alpha = 0.01\n",
    "null_hypothesis = 0.005\n",
    "sample_var = 0.006\n",
    "n = 25\n",
    "\n",
    "# Calculate the F-statistic and corresponding p-value\n",
    "f_statistic = (n-1) * sample_var / null_hypothesis\n",
    "p_value = 1 - stats.f.cdf(f_statistic, n-1, n-1)\n",
    "\n",
    "# Compare p-value to significance level\n",
    "if p_value < alpha:\n",
    "    print(\"Reject the null hypothesis. The population variance is not equal to 0.005.\")\n",
    "else:\n",
    "    print(\"Fail to reject the null hypothesis. The population variance is equal to 0.005.\")\n"
   ]
  },
  {
   "cell_type": "markdown",
   "metadata": {},
   "source": [
    "Q6. Write a Python function that takes in the degrees of freedom for the numerator and denominator of an\n",
    "F-distribution and calculates the mean and variance of the distribution. The function should return the\n",
    "mean and variance as a tuple."
   ]
  },
  {
   "cell_type": "code",
   "execution_count": 15,
   "metadata": {},
   "outputs": [],
   "source": [
    "import math\n",
    "\n",
    "def f_distribution_mean_var(df_num, df_denom):\n",
    "    \"\"\"\n",
    "    Calculate the mean and variance of an F-distribution given the degrees of freedom for the numerator\n",
    "    and denominator.\n",
    "    \n",
    "    Args:\n",
    "    - df_num (int): Degrees of freedom for the numerator\n",
    "    - df_denom (int): Degrees of freedom for the denominator\n",
    "    \n",
    "    Returns:\n",
    "    - mean (float): Mean of the F-distribution\n",
    "    - var (float): Variance of the F-distribution\n",
    "    \"\"\"\n",
    "    if df_num <= 0 or df_denom <= 0:\n",
    "        return 'df_num, df_denom are not zero'\n",
    "    \n",
    "    mean = df_denom / (df_denom - 2)\n",
    "    var = (2 * (df_denom ** 2) * (df_num + df_denom - 2)) / ((df_num * (df_denom - 2) ** 2 * (df_denom - 4)))\n",
    "    \n",
    "    return (mean, var)\n"
   ]
  },
  {
   "cell_type": "markdown",
   "metadata": {},
   "source": [
    "Q7. A random sample of 10 measurements is taken from a normal population with unknown variance. The\n",
    "sample variance is found to be 25. Another random sample of 15 measurements is taken from another\n",
    "normal population with unknown variance, and the sample variance is found to be 20. Conduct an F-test\n",
    "at the 10% significance level to determine if the variances are significantly different."
   ]
  },
  {
   "cell_type": "code",
   "execution_count": 16,
   "metadata": {},
   "outputs": [
    {
     "name": "stdout",
     "output_type": "stream",
     "text": [
      "There is no significant difference in the variances (F = 1.25, p = 0.3416)\n"
     ]
    }
   ],
   "source": [
    "import scipy.stats as stats\n",
    "\n",
    "# Sample variances\n",
    "s1_squared = 25\n",
    "s2_squared = 20\n",
    "\n",
    "# Sample sizes\n",
    "n1 = 10\n",
    "n2 = 15\n",
    "\n",
    "# Calculate the F-statistic\n",
    "F = s1_squared / s2_squared\n",
    "\n",
    "# Calculate the degrees of freedom\n",
    "df1 = n1 - 1\n",
    "df2 = n2 - 1\n",
    "\n",
    "# Calculate the p-value\n",
    "p_value = stats.f.sf(F, df1, df2)\n",
    "\n",
    "# Set the significance level\n",
    "alpha = 0.1\n",
    "\n",
    "# Print the results\n",
    "if p_value < alpha:\n",
    "    print(f\"The variances are significantly different (F = {F:.2f}, p = {p_value:.4f})\")\n",
    "else:\n",
    "    print(f\"There is no significant difference in the variances (F = {F:.2f}, p = {p_value:.4f})\")\n"
   ]
  },
  {
   "cell_type": "markdown",
   "metadata": {},
   "source": [
    "Q8. The following data represent the waiting times in minutes at two different restaurants on a Saturday\n",
    "night: Restaurant A: 24, 25, 28, 23, 22, 20, 27; Restaurant B: 31, 33, 35, 30, 32, 36. Conduct an F-test at the 5%\n",
    "significance level to determine if the variances are significantly different."
   ]
  },
  {
   "cell_type": "code",
   "execution_count": 17,
   "metadata": {},
   "outputs": [
    {
     "name": "stdout",
     "output_type": "stream",
     "text": [
      "The variances are not significantly different (p >= 0.05)\n",
      "F-statistic: 1.4551907719609583\n",
      "p-value: 0.34874078739687414\n"
     ]
    }
   ],
   "source": [
    "import numpy as np\n",
    "from scipy.stats import f\n",
    "\n",
    "# Restaurant A waiting times\n",
    "a = np.array([24, 25, 28, 23, 22, 20, 27])\n",
    "\n",
    "# Restaurant B waiting times\n",
    "b = np.array([31, 33, 35, 30, 32, 36])\n",
    "\n",
    "# Calculate the sample variances\n",
    "var_a = np.var(a, ddof=1)\n",
    "var_b = np.var(b, ddof=1)\n",
    "\n",
    "# Calculate the F-statistic\n",
    "f_stat = var_a / var_b\n",
    "\n",
    "# Calculate the degrees of freedom for the numerator and denominator\n",
    "df_num = len(a) - 1\n",
    "df_den = len(b) - 1\n",
    "\n",
    "# Calculate the p-value\n",
    "p_val = f.sf(f_stat, df_num, df_den)\n",
    "\n",
    "# Determine if the variances are significantly different\n",
    "alpha = 0.05\n",
    "if p_val < alpha:\n",
    "    print(\"The variances are significantly different (p < 0.05)\")\n",
    "else:\n",
    "    print(\"The variances are not significantly different (p >= 0.05)\")\n",
    "\n",
    "# Print the F-statistic and p-value\n",
    "print(\"F-statistic:\", f_stat)\n",
    "print(\"p-value:\", p_val)\n"
   ]
  },
  {
   "cell_type": "markdown",
   "metadata": {},
   "source": [
    "Q9. The following data represent the test scores of two groups of students: Group A: 80, 85, 90, 92, 87, 83;\n",
    "Group B: 75, 78, 82, 79, 81, 84. Conduct an F-test at the 1% significance level to determine if the variances\n",
    "are significantly different."
   ]
  },
  {
   "cell_type": "code",
   "execution_count": 18,
   "metadata": {},
   "outputs": [
    {
     "name": "stdout",
     "output_type": "stream",
     "text": [
      "F-statistic:  1.9442622950819677\n",
      "P-value:  0.7584478225464656\n",
      "Critical F-value:  0.066936171954696\n"
     ]
    }
   ],
   "source": [
    "import numpy as np\n",
    "from scipy.stats import f\n",
    "\n",
    "# Data for Group A and Group B\n",
    "group_a = [80, 85, 90, 92, 87, 83]\n",
    "group_b = [75, 78, 82, 79, 81, 84]\n",
    "\n",
    "# Calculate the variances\n",
    "var_a = np.var(group_a, ddof=1)\n",
    "var_b = np.var(group_b, ddof=1)\n",
    "\n",
    "# Calculate the F-statistic\n",
    "f_stat = var_a / var_b\n",
    "\n",
    "# Degrees of freedom\n",
    "df_a = len(group_a) - 1\n",
    "df_b = len(group_b) - 1\n",
    "\n",
    "# Calculate the p-value\n",
    "p_value = f.cdf(f_stat, df_a, df_b)\n",
    "\n",
    "# Critical F-value\n",
    "crit_f = f.ppf(0.005, df_a, df_b)\n",
    "\n",
    "# Print the results\n",
    "print(\"F-statistic: \", f_stat)\n",
    "print(\"P-value: \", p_value)\n",
    "print(\"Critical F-value: \", crit_f)\n"
   ]
  }
 ],
 "metadata": {
  "kernelspec": {
   "display_name": "Python 3",
   "language": "python",
   "name": "python3"
  },
  "language_info": {
   "codemirror_mode": {
    "name": "ipython",
    "version": 3
   },
   "file_extension": ".py",
   "mimetype": "text/x-python",
   "name": "python",
   "nbconvert_exporter": "python",
   "pygments_lexer": "ipython3",
   "version": "3.6.5"
  }
 },
 "nbformat": 4,
 "nbformat_minor": 2
}
